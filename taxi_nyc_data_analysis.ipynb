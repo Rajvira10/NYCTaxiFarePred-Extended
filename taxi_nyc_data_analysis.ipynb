{
  "cells": [
    {
      "cell_type": "code",
      "execution_count": null,
      "metadata": {
        "_cell_guid": "b1076dfc-b9ad-4769-8c92-a6c4dae69d19",
        "_uuid": "8f2839f25d086af736a60e9eeb907d3b93b6e0e5",
        "id": "i7ANOLnRiTAI",
        "trusted": true
      },
      "outputs": [],
      "source": [
        "import pandas as pd\n",
        "import numpy as np\n",
        "import matplotlib.pyplot as plt\n",
        "import seaborn as sns\n",
        "\n",
        "\n",
        "sns.set()"
      ]
    },
    {
      "cell_type": "code",
      "execution_count": null,
      "metadata": {
        "colab": {
          "base_uri": "https://localhost:8080/"
        },
        "id": "6wbCeSZNiTAP",
        "outputId": "b8c38fad-02a4-4ce0-fc90-35d6bb8374de",
        "trusted": true
      },
      "outputs": [
        {
          "name": "stderr",
          "output_type": "stream",
          "text": [
            "/usr/local/lib/python3.8/dist-packages/IPython/core/interactiveshell.py:3326: DtypeWarning: Columns (3) have mixed types.Specify dtype option on import or set low_memory=False.\n",
            "  exec(code_obj, self.user_global_ns, self.user_ns)\n"
          ]
        }
      ],
      "source": [
        "df = pd.read_csv('/content/taxi_tripdata.csv')"
      ]
    },
    {
      "cell_type": "code",
      "execution_count": null,
      "metadata": {
        "colab": {
          "base_uri": "https://localhost:8080/",
          "height": 270
        },
        "id": "PPEHKW4uiTAP",
        "outputId": "362fe05b-c4a7-47b6-f092-6e305e632d06",
        "trusted": true
      },
      "outputs": [
        {
          "data": {
            "text/html": [
              "\n",
              "  <div id=\"df-8bd7b2b4-5a6f-41ee-9eb5-2cc221007ebe\">\n",
              "    <div class=\"colab-df-container\">\n",
              "      <div>\n",
              "<style scoped>\n",
              "    .dataframe tbody tr th:only-of-type {\n",
              "        vertical-align: middle;\n",
              "    }\n",
              "\n",
              "    .dataframe tbody tr th {\n",
              "        vertical-align: top;\n",
              "    }\n",
              "\n",
              "    .dataframe thead th {\n",
              "        text-align: right;\n",
              "    }\n",
              "</style>\n",
              "<table border=\"1\" class=\"dataframe\">\n",
              "  <thead>\n",
              "    <tr style=\"text-align: right;\">\n",
              "      <th></th>\n",
              "      <th>VendorID</th>\n",
              "      <th>lpep_pickup_datetime</th>\n",
              "      <th>lpep_dropoff_datetime</th>\n",
              "      <th>store_and_fwd_flag</th>\n",
              "      <th>RatecodeID</th>\n",
              "      <th>PULocationID</th>\n",
              "      <th>DOLocationID</th>\n",
              "      <th>passenger_count</th>\n",
              "      <th>trip_distance</th>\n",
              "      <th>fare_amount</th>\n",
              "      <th>extra</th>\n",
              "      <th>mta_tax</th>\n",
              "      <th>tip_amount</th>\n",
              "      <th>tolls_amount</th>\n",
              "      <th>ehail_fee</th>\n",
              "      <th>improvement_surcharge</th>\n",
              "      <th>total_amount</th>\n",
              "      <th>payment_type</th>\n",
              "      <th>trip_type</th>\n",
              "      <th>congestion_surcharge</th>\n",
              "    </tr>\n",
              "  </thead>\n",
              "  <tbody>\n",
              "    <tr>\n",
              "      <th>0</th>\n",
              "      <td>1.0</td>\n",
              "      <td>2021-07-01 00:30:52</td>\n",
              "      <td>2021-07-01 00:35:36</td>\n",
              "      <td>N</td>\n",
              "      <td>1.0</td>\n",
              "      <td>74</td>\n",
              "      <td>168</td>\n",
              "      <td>1.0</td>\n",
              "      <td>1.20</td>\n",
              "      <td>6.0</td>\n",
              "      <td>0.5</td>\n",
              "      <td>0.5</td>\n",
              "      <td>0.00</td>\n",
              "      <td>0.0</td>\n",
              "      <td>NaN</td>\n",
              "      <td>0.3</td>\n",
              "      <td>7.30</td>\n",
              "      <td>2.0</td>\n",
              "      <td>1.0</td>\n",
              "      <td>0.0</td>\n",
              "    </tr>\n",
              "    <tr>\n",
              "      <th>1</th>\n",
              "      <td>2.0</td>\n",
              "      <td>2021-07-01 00:25:36</td>\n",
              "      <td>2021-07-01 01:01:31</td>\n",
              "      <td>N</td>\n",
              "      <td>1.0</td>\n",
              "      <td>116</td>\n",
              "      <td>265</td>\n",
              "      <td>2.0</td>\n",
              "      <td>13.69</td>\n",
              "      <td>42.0</td>\n",
              "      <td>0.5</td>\n",
              "      <td>0.5</td>\n",
              "      <td>0.00</td>\n",
              "      <td>0.0</td>\n",
              "      <td>NaN</td>\n",
              "      <td>0.3</td>\n",
              "      <td>43.30</td>\n",
              "      <td>2.0</td>\n",
              "      <td>1.0</td>\n",
              "      <td>0.0</td>\n",
              "    </tr>\n",
              "    <tr>\n",
              "      <th>2</th>\n",
              "      <td>2.0</td>\n",
              "      <td>2021-07-01 00:05:58</td>\n",
              "      <td>2021-07-01 00:12:00</td>\n",
              "      <td>N</td>\n",
              "      <td>1.0</td>\n",
              "      <td>97</td>\n",
              "      <td>33</td>\n",
              "      <td>1.0</td>\n",
              "      <td>0.95</td>\n",
              "      <td>6.5</td>\n",
              "      <td>0.5</td>\n",
              "      <td>0.5</td>\n",
              "      <td>2.34</td>\n",
              "      <td>0.0</td>\n",
              "      <td>NaN</td>\n",
              "      <td>0.3</td>\n",
              "      <td>10.14</td>\n",
              "      <td>1.0</td>\n",
              "      <td>1.0</td>\n",
              "      <td>0.0</td>\n",
              "    </tr>\n",
              "    <tr>\n",
              "      <th>3</th>\n",
              "      <td>2.0</td>\n",
              "      <td>2021-07-01 00:41:40</td>\n",
              "      <td>2021-07-01 00:47:23</td>\n",
              "      <td>N</td>\n",
              "      <td>1.0</td>\n",
              "      <td>74</td>\n",
              "      <td>42</td>\n",
              "      <td>1.0</td>\n",
              "      <td>1.24</td>\n",
              "      <td>6.5</td>\n",
              "      <td>0.5</td>\n",
              "      <td>0.5</td>\n",
              "      <td>0.00</td>\n",
              "      <td>0.0</td>\n",
              "      <td>NaN</td>\n",
              "      <td>0.3</td>\n",
              "      <td>7.80</td>\n",
              "      <td>2.0</td>\n",
              "      <td>1.0</td>\n",
              "      <td>0.0</td>\n",
              "    </tr>\n",
              "    <tr>\n",
              "      <th>4</th>\n",
              "      <td>2.0</td>\n",
              "      <td>2021-07-01 00:51:32</td>\n",
              "      <td>2021-07-01 00:58:46</td>\n",
              "      <td>N</td>\n",
              "      <td>1.0</td>\n",
              "      <td>42</td>\n",
              "      <td>244</td>\n",
              "      <td>1.0</td>\n",
              "      <td>1.10</td>\n",
              "      <td>7.0</td>\n",
              "      <td>0.5</td>\n",
              "      <td>0.5</td>\n",
              "      <td>0.00</td>\n",
              "      <td>0.0</td>\n",
              "      <td>NaN</td>\n",
              "      <td>0.3</td>\n",
              "      <td>8.30</td>\n",
              "      <td>2.0</td>\n",
              "      <td>1.0</td>\n",
              "      <td>0.0</td>\n",
              "    </tr>\n",
              "  </tbody>\n",
              "</table>\n",
              "</div>\n",
              "      <button class=\"colab-df-convert\" onclick=\"convertToInteractive('df-8bd7b2b4-5a6f-41ee-9eb5-2cc221007ebe')\"\n",
              "              title=\"Convert this dataframe to an interactive table.\"\n",
              "              style=\"display:none;\">\n",
              "        \n",
              "  <svg xmlns=\"http://www.w3.org/2000/svg\" height=\"24px\"viewBox=\"0 0 24 24\"\n",
              "       width=\"24px\">\n",
              "    <path d=\"M0 0h24v24H0V0z\" fill=\"none\"/>\n",
              "    <path d=\"M18.56 5.44l.94 2.06.94-2.06 2.06-.94-2.06-.94-.94-2.06-.94 2.06-2.06.94zm-11 1L8.5 8.5l.94-2.06 2.06-.94-2.06-.94L8.5 2.5l-.94 2.06-2.06.94zm10 10l.94 2.06.94-2.06 2.06-.94-2.06-.94-.94-2.06-.94 2.06-2.06.94z\"/><path d=\"M17.41 7.96l-1.37-1.37c-.4-.4-.92-.59-1.43-.59-.52 0-1.04.2-1.43.59L10.3 9.45l-7.72 7.72c-.78.78-.78 2.05 0 2.83L4 21.41c.39.39.9.59 1.41.59.51 0 1.02-.2 1.41-.59l7.78-7.78 2.81-2.81c.8-.78.8-2.07 0-2.86zM5.41 20L4 18.59l7.72-7.72 1.47 1.35L5.41 20z\"/>\n",
              "  </svg>\n",
              "      </button>\n",
              "      \n",
              "  <style>\n",
              "    .colab-df-container {\n",
              "      display:flex;\n",
              "      flex-wrap:wrap;\n",
              "      gap: 12px;\n",
              "    }\n",
              "\n",
              "    .colab-df-convert {\n",
              "      background-color: #E8F0FE;\n",
              "      border: none;\n",
              "      border-radius: 50%;\n",
              "      cursor: pointer;\n",
              "      display: none;\n",
              "      fill: #1967D2;\n",
              "      height: 32px;\n",
              "      padding: 0 0 0 0;\n",
              "      width: 32px;\n",
              "    }\n",
              "\n",
              "    .colab-df-convert:hover {\n",
              "      background-color: #E2EBFA;\n",
              "      box-shadow: 0px 1px 2px rgba(60, 64, 67, 0.3), 0px 1px 3px 1px rgba(60, 64, 67, 0.15);\n",
              "      fill: #174EA6;\n",
              "    }\n",
              "\n",
              "    [theme=dark] .colab-df-convert {\n",
              "      background-color: #3B4455;\n",
              "      fill: #D2E3FC;\n",
              "    }\n",
              "\n",
              "    [theme=dark] .colab-df-convert:hover {\n",
              "      background-color: #434B5C;\n",
              "      box-shadow: 0px 1px 3px 1px rgba(0, 0, 0, 0.15);\n",
              "      filter: drop-shadow(0px 1px 2px rgba(0, 0, 0, 0.3));\n",
              "      fill: #FFFFFF;\n",
              "    }\n",
              "  </style>\n",
              "\n",
              "      <script>\n",
              "        const buttonEl =\n",
              "          document.querySelector('#df-8bd7b2b4-5a6f-41ee-9eb5-2cc221007ebe button.colab-df-convert');\n",
              "        buttonEl.style.display =\n",
              "          google.colab.kernel.accessAllowed ? 'block' : 'none';\n",
              "\n",
              "        async function convertToInteractive(key) {\n",
              "          const element = document.querySelector('#df-8bd7b2b4-5a6f-41ee-9eb5-2cc221007ebe');\n",
              "          const dataTable =\n",
              "            await google.colab.kernel.invokeFunction('convertToInteractive',\n",
              "                                                     [key], {});\n",
              "          if (!dataTable) return;\n",
              "\n",
              "          const docLinkHtml = 'Like what you see? Visit the ' +\n",
              "            '<a target=\"_blank\" href=https://colab.research.google.com/notebooks/data_table.ipynb>data table notebook</a>'\n",
              "            + ' to learn more about interactive tables.';\n",
              "          element.innerHTML = '';\n",
              "          dataTable['output_type'] = 'display_data';\n",
              "          await google.colab.output.renderOutput(dataTable, element);\n",
              "          const docLink = document.createElement('div');\n",
              "          docLink.innerHTML = docLinkHtml;\n",
              "          element.appendChild(docLink);\n",
              "        }\n",
              "      </script>\n",
              "    </div>\n",
              "  </div>\n",
              "  "
            ],
            "text/plain": [
              "   VendorID lpep_pickup_datetime lpep_dropoff_datetime store_and_fwd_flag  \\\n",
              "0       1.0  2021-07-01 00:30:52   2021-07-01 00:35:36                  N   \n",
              "1       2.0  2021-07-01 00:25:36   2021-07-01 01:01:31                  N   \n",
              "2       2.0  2021-07-01 00:05:58   2021-07-01 00:12:00                  N   \n",
              "3       2.0  2021-07-01 00:41:40   2021-07-01 00:47:23                  N   \n",
              "4       2.0  2021-07-01 00:51:32   2021-07-01 00:58:46                  N   \n",
              "\n",
              "   RatecodeID  PULocationID  DOLocationID  passenger_count  trip_distance  \\\n",
              "0         1.0            74           168              1.0           1.20   \n",
              "1         1.0           116           265              2.0          13.69   \n",
              "2         1.0            97            33              1.0           0.95   \n",
              "3         1.0            74            42              1.0           1.24   \n",
              "4         1.0            42           244              1.0           1.10   \n",
              "\n",
              "   fare_amount  extra  mta_tax  tip_amount  tolls_amount  ehail_fee  \\\n",
              "0          6.0    0.5      0.5        0.00           0.0        NaN   \n",
              "1         42.0    0.5      0.5        0.00           0.0        NaN   \n",
              "2          6.5    0.5      0.5        2.34           0.0        NaN   \n",
              "3          6.5    0.5      0.5        0.00           0.0        NaN   \n",
              "4          7.0    0.5      0.5        0.00           0.0        NaN   \n",
              "\n",
              "   improvement_surcharge  total_amount  payment_type  trip_type  \\\n",
              "0                    0.3          7.30           2.0        1.0   \n",
              "1                    0.3         43.30           2.0        1.0   \n",
              "2                    0.3         10.14           1.0        1.0   \n",
              "3                    0.3          7.80           2.0        1.0   \n",
              "4                    0.3          8.30           2.0        1.0   \n",
              "\n",
              "   congestion_surcharge  \n",
              "0                   0.0  \n",
              "1                   0.0  \n",
              "2                   0.0  \n",
              "3                   0.0  \n",
              "4                   0.0  "
            ]
          },
          "execution_count": 5,
          "metadata": {},
          "output_type": "execute_result"
        }
      ],
      "source": [
        "df.head()"
      ]
    },
    {
      "cell_type": "code",
      "execution_count": null,
      "metadata": {
        "colab": {
          "base_uri": "https://localhost:8080/"
        },
        "id": "A-lmFinkiTAQ",
        "outputId": "4bd063cd-a33e-47af-8392-5b5a316bbe2a",
        "trusted": true
      },
      "outputs": [
        {
          "data": {
            "text/plain": [
              "(83691, 20)"
            ]
          },
          "execution_count": 6,
          "metadata": {},
          "output_type": "execute_result"
        }
      ],
      "source": [
        "df.shape"
      ]
    },
    {
      "cell_type": "code",
      "execution_count": null,
      "metadata": {
        "colab": {
          "base_uri": "https://localhost:8080/",
          "height": 364
        },
        "id": "nuptbDK8iTAQ",
        "outputId": "bbcbbf8a-d46e-47e0-f32a-764165529f27",
        "trusted": true
      },
      "outputs": [
        {
          "data": {
            "text/html": [
              "\n",
              "  <div id=\"df-e294e716-1e9e-416f-bd91-8c051e834dbe\">\n",
              "    <div class=\"colab-df-container\">\n",
              "      <div>\n",
              "<style scoped>\n",
              "    .dataframe tbody tr th:only-of-type {\n",
              "        vertical-align: middle;\n",
              "    }\n",
              "\n",
              "    .dataframe tbody tr th {\n",
              "        vertical-align: top;\n",
              "    }\n",
              "\n",
              "    .dataframe thead th {\n",
              "        text-align: right;\n",
              "    }\n",
              "</style>\n",
              "<table border=\"1\" class=\"dataframe\">\n",
              "  <thead>\n",
              "    <tr style=\"text-align: right;\">\n",
              "      <th></th>\n",
              "      <th>VendorID</th>\n",
              "      <th>RatecodeID</th>\n",
              "      <th>PULocationID</th>\n",
              "      <th>DOLocationID</th>\n",
              "      <th>passenger_count</th>\n",
              "      <th>trip_distance</th>\n",
              "      <th>fare_amount</th>\n",
              "      <th>extra</th>\n",
              "      <th>mta_tax</th>\n",
              "      <th>tip_amount</th>\n",
              "      <th>tolls_amount</th>\n",
              "      <th>ehail_fee</th>\n",
              "      <th>improvement_surcharge</th>\n",
              "      <th>total_amount</th>\n",
              "      <th>payment_type</th>\n",
              "      <th>trip_type</th>\n",
              "      <th>congestion_surcharge</th>\n",
              "    </tr>\n",
              "  </thead>\n",
              "  <tbody>\n",
              "    <tr>\n",
              "      <th>count</th>\n",
              "      <td>51173.000000</td>\n",
              "      <td>51173.000000</td>\n",
              "      <td>83691.000000</td>\n",
              "      <td>83691.000000</td>\n",
              "      <td>51173.000000</td>\n",
              "      <td>83691.000000</td>\n",
              "      <td>83691.000000</td>\n",
              "      <td>83691.000000</td>\n",
              "      <td>83691.000000</td>\n",
              "      <td>83691.000000</td>\n",
              "      <td>83691.000000</td>\n",
              "      <td>0.0</td>\n",
              "      <td>83691.000000</td>\n",
              "      <td>83691.000000</td>\n",
              "      <td>51173.000000</td>\n",
              "      <td>51173.000000</td>\n",
              "      <td>51173.000000</td>\n",
              "    </tr>\n",
              "    <tr>\n",
              "      <th>mean</th>\n",
              "      <td>1.851113</td>\n",
              "      <td>1.159244</td>\n",
              "      <td>108.362572</td>\n",
              "      <td>133.270005</td>\n",
              "      <td>1.307858</td>\n",
              "      <td>194.354699</td>\n",
              "      <td>20.388305</td>\n",
              "      <td>1.156707</td>\n",
              "      <td>0.293562</td>\n",
              "      <td>1.058618</td>\n",
              "      <td>0.624529</td>\n",
              "      <td>NaN</td>\n",
              "      <td>0.297745</td>\n",
              "      <td>24.204836</td>\n",
              "      <td>1.421726</td>\n",
              "      <td>1.034393</td>\n",
              "      <td>0.642815</td>\n",
              "    </tr>\n",
              "    <tr>\n",
              "      <th>std</th>\n",
              "      <td>0.355981</td>\n",
              "      <td>0.773260</td>\n",
              "      <td>70.370170</td>\n",
              "      <td>77.216791</td>\n",
              "      <td>0.984362</td>\n",
              "      <td>4405.549221</td>\n",
              "      <td>15.583552</td>\n",
              "      <td>1.367897</td>\n",
              "      <td>0.247773</td>\n",
              "      <td>2.368771</td>\n",
              "      <td>1.990481</td>\n",
              "      <td>NaN</td>\n",
              "      <td>0.031219</td>\n",
              "      <td>17.262183</td>\n",
              "      <td>0.511146</td>\n",
              "      <td>0.182239</td>\n",
              "      <td>1.164219</td>\n",
              "    </tr>\n",
              "    <tr>\n",
              "      <th>min</th>\n",
              "      <td>1.000000</td>\n",
              "      <td>1.000000</td>\n",
              "      <td>3.000000</td>\n",
              "      <td>1.000000</td>\n",
              "      <td>0.000000</td>\n",
              "      <td>0.000000</td>\n",
              "      <td>-150.000000</td>\n",
              "      <td>-4.500000</td>\n",
              "      <td>-0.500000</td>\n",
              "      <td>-1.140000</td>\n",
              "      <td>0.000000</td>\n",
              "      <td>NaN</td>\n",
              "      <td>-0.300000</td>\n",
              "      <td>-150.300000</td>\n",
              "      <td>1.000000</td>\n",
              "      <td>1.000000</td>\n",
              "      <td>-2.750000</td>\n",
              "    </tr>\n",
              "    <tr>\n",
              "      <th>25%</th>\n",
              "      <td>2.000000</td>\n",
              "      <td>1.000000</td>\n",
              "      <td>56.000000</td>\n",
              "      <td>69.000000</td>\n",
              "      <td>1.000000</td>\n",
              "      <td>1.350000</td>\n",
              "      <td>9.000000</td>\n",
              "      <td>0.000000</td>\n",
              "      <td>0.000000</td>\n",
              "      <td>0.000000</td>\n",
              "      <td>0.000000</td>\n",
              "      <td>NaN</td>\n",
              "      <td>0.300000</td>\n",
              "      <td>11.760000</td>\n",
              "      <td>1.000000</td>\n",
              "      <td>1.000000</td>\n",
              "      <td>0.000000</td>\n",
              "    </tr>\n",
              "    <tr>\n",
              "      <th>50%</th>\n",
              "      <td>2.000000</td>\n",
              "      <td>1.000000</td>\n",
              "      <td>75.000000</td>\n",
              "      <td>132.000000</td>\n",
              "      <td>1.000000</td>\n",
              "      <td>2.760000</td>\n",
              "      <td>16.000000</td>\n",
              "      <td>0.500000</td>\n",
              "      <td>0.500000</td>\n",
              "      <td>0.000000</td>\n",
              "      <td>0.000000</td>\n",
              "      <td>NaN</td>\n",
              "      <td>0.300000</td>\n",
              "      <td>19.800000</td>\n",
              "      <td>1.000000</td>\n",
              "      <td>1.000000</td>\n",
              "      <td>0.000000</td>\n",
              "    </tr>\n",
              "    <tr>\n",
              "      <th>75%</th>\n",
              "      <td>2.000000</td>\n",
              "      <td>1.000000</td>\n",
              "      <td>166.000000</td>\n",
              "      <td>205.000000</td>\n",
              "      <td>1.000000</td>\n",
              "      <td>6.200000</td>\n",
              "      <td>26.830000</td>\n",
              "      <td>2.750000</td>\n",
              "      <td>0.500000</td>\n",
              "      <td>1.660000</td>\n",
              "      <td>0.000000</td>\n",
              "      <td>NaN</td>\n",
              "      <td>0.300000</td>\n",
              "      <td>31.300000</td>\n",
              "      <td>2.000000</td>\n",
              "      <td>1.000000</td>\n",
              "      <td>0.000000</td>\n",
              "    </tr>\n",
              "    <tr>\n",
              "      <th>max</th>\n",
              "      <td>2.000000</td>\n",
              "      <td>5.000000</td>\n",
              "      <td>265.000000</td>\n",
              "      <td>265.000000</td>\n",
              "      <td>32.000000</td>\n",
              "      <td>260517.930000</td>\n",
              "      <td>480.000000</td>\n",
              "      <td>8.250000</td>\n",
              "      <td>0.500000</td>\n",
              "      <td>87.710000</td>\n",
              "      <td>30.050000</td>\n",
              "      <td>NaN</td>\n",
              "      <td>0.300000</td>\n",
              "      <td>480.310000</td>\n",
              "      <td>5.000000</td>\n",
              "      <td>2.000000</td>\n",
              "      <td>2.750000</td>\n",
              "    </tr>\n",
              "  </tbody>\n",
              "</table>\n",
              "</div>\n",
              "      <button class=\"colab-df-convert\" onclick=\"convertToInteractive('df-e294e716-1e9e-416f-bd91-8c051e834dbe')\"\n",
              "              title=\"Convert this dataframe to an interactive table.\"\n",
              "              style=\"display:none;\">\n",
              "        \n",
              "  <svg xmlns=\"http://www.w3.org/2000/svg\" height=\"24px\"viewBox=\"0 0 24 24\"\n",
              "       width=\"24px\">\n",
              "    <path d=\"M0 0h24v24H0V0z\" fill=\"none\"/>\n",
              "    <path d=\"M18.56 5.44l.94 2.06.94-2.06 2.06-.94-2.06-.94-.94-2.06-.94 2.06-2.06.94zm-11 1L8.5 8.5l.94-2.06 2.06-.94-2.06-.94L8.5 2.5l-.94 2.06-2.06.94zm10 10l.94 2.06.94-2.06 2.06-.94-2.06-.94-.94-2.06-.94 2.06-2.06.94z\"/><path d=\"M17.41 7.96l-1.37-1.37c-.4-.4-.92-.59-1.43-.59-.52 0-1.04.2-1.43.59L10.3 9.45l-7.72 7.72c-.78.78-.78 2.05 0 2.83L4 21.41c.39.39.9.59 1.41.59.51 0 1.02-.2 1.41-.59l7.78-7.78 2.81-2.81c.8-.78.8-2.07 0-2.86zM5.41 20L4 18.59l7.72-7.72 1.47 1.35L5.41 20z\"/>\n",
              "  </svg>\n",
              "      </button>\n",
              "      \n",
              "  <style>\n",
              "    .colab-df-container {\n",
              "      display:flex;\n",
              "      flex-wrap:wrap;\n",
              "      gap: 12px;\n",
              "    }\n",
              "\n",
              "    .colab-df-convert {\n",
              "      background-color: #E8F0FE;\n",
              "      border: none;\n",
              "      border-radius: 50%;\n",
              "      cursor: pointer;\n",
              "      display: none;\n",
              "      fill: #1967D2;\n",
              "      height: 32px;\n",
              "      padding: 0 0 0 0;\n",
              "      width: 32px;\n",
              "    }\n",
              "\n",
              "    .colab-df-convert:hover {\n",
              "      background-color: #E2EBFA;\n",
              "      box-shadow: 0px 1px 2px rgba(60, 64, 67, 0.3), 0px 1px 3px 1px rgba(60, 64, 67, 0.15);\n",
              "      fill: #174EA6;\n",
              "    }\n",
              "\n",
              "    [theme=dark] .colab-df-convert {\n",
              "      background-color: #3B4455;\n",
              "      fill: #D2E3FC;\n",
              "    }\n",
              "\n",
              "    [theme=dark] .colab-df-convert:hover {\n",
              "      background-color: #434B5C;\n",
              "      box-shadow: 0px 1px 3px 1px rgba(0, 0, 0, 0.15);\n",
              "      filter: drop-shadow(0px 1px 2px rgba(0, 0, 0, 0.3));\n",
              "      fill: #FFFFFF;\n",
              "    }\n",
              "  </style>\n",
              "\n",
              "      <script>\n",
              "        const buttonEl =\n",
              "          document.querySelector('#df-e294e716-1e9e-416f-bd91-8c051e834dbe button.colab-df-convert');\n",
              "        buttonEl.style.display =\n",
              "          google.colab.kernel.accessAllowed ? 'block' : 'none';\n",
              "\n",
              "        async function convertToInteractive(key) {\n",
              "          const element = document.querySelector('#df-e294e716-1e9e-416f-bd91-8c051e834dbe');\n",
              "          const dataTable =\n",
              "            await google.colab.kernel.invokeFunction('convertToInteractive',\n",
              "                                                     [key], {});\n",
              "          if (!dataTable) return;\n",
              "\n",
              "          const docLinkHtml = 'Like what you see? Visit the ' +\n",
              "            '<a target=\"_blank\" href=https://colab.research.google.com/notebooks/data_table.ipynb>data table notebook</a>'\n",
              "            + ' to learn more about interactive tables.';\n",
              "          element.innerHTML = '';\n",
              "          dataTable['output_type'] = 'display_data';\n",
              "          await google.colab.output.renderOutput(dataTable, element);\n",
              "          const docLink = document.createElement('div');\n",
              "          docLink.innerHTML = docLinkHtml;\n",
              "          element.appendChild(docLink);\n",
              "        }\n",
              "      </script>\n",
              "    </div>\n",
              "  </div>\n",
              "  "
            ],
            "text/plain": [
              "           VendorID    RatecodeID  PULocationID  DOLocationID  \\\n",
              "count  51173.000000  51173.000000  83691.000000  83691.000000   \n",
              "mean       1.851113      1.159244    108.362572    133.270005   \n",
              "std        0.355981      0.773260     70.370170     77.216791   \n",
              "min        1.000000      1.000000      3.000000      1.000000   \n",
              "25%        2.000000      1.000000     56.000000     69.000000   \n",
              "50%        2.000000      1.000000     75.000000    132.000000   \n",
              "75%        2.000000      1.000000    166.000000    205.000000   \n",
              "max        2.000000      5.000000    265.000000    265.000000   \n",
              "\n",
              "       passenger_count  trip_distance   fare_amount         extra  \\\n",
              "count     51173.000000   83691.000000  83691.000000  83691.000000   \n",
              "mean          1.307858     194.354699     20.388305      1.156707   \n",
              "std           0.984362    4405.549221     15.583552      1.367897   \n",
              "min           0.000000       0.000000   -150.000000     -4.500000   \n",
              "25%           1.000000       1.350000      9.000000      0.000000   \n",
              "50%           1.000000       2.760000     16.000000      0.500000   \n",
              "75%           1.000000       6.200000     26.830000      2.750000   \n",
              "max          32.000000  260517.930000    480.000000      8.250000   \n",
              "\n",
              "            mta_tax    tip_amount  tolls_amount  ehail_fee  \\\n",
              "count  83691.000000  83691.000000  83691.000000        0.0   \n",
              "mean       0.293562      1.058618      0.624529        NaN   \n",
              "std        0.247773      2.368771      1.990481        NaN   \n",
              "min       -0.500000     -1.140000      0.000000        NaN   \n",
              "25%        0.000000      0.000000      0.000000        NaN   \n",
              "50%        0.500000      0.000000      0.000000        NaN   \n",
              "75%        0.500000      1.660000      0.000000        NaN   \n",
              "max        0.500000     87.710000     30.050000        NaN   \n",
              "\n",
              "       improvement_surcharge  total_amount  payment_type     trip_type  \\\n",
              "count           83691.000000  83691.000000  51173.000000  51173.000000   \n",
              "mean                0.297745     24.204836      1.421726      1.034393   \n",
              "std                 0.031219     17.262183      0.511146      0.182239   \n",
              "min                -0.300000   -150.300000      1.000000      1.000000   \n",
              "25%                 0.300000     11.760000      1.000000      1.000000   \n",
              "50%                 0.300000     19.800000      1.000000      1.000000   \n",
              "75%                 0.300000     31.300000      2.000000      1.000000   \n",
              "max                 0.300000    480.310000      5.000000      2.000000   \n",
              "\n",
              "       congestion_surcharge  \n",
              "count          51173.000000  \n",
              "mean               0.642815  \n",
              "std                1.164219  \n",
              "min               -2.750000  \n",
              "25%                0.000000  \n",
              "50%                0.000000  \n",
              "75%                0.000000  \n",
              "max                2.750000  "
            ]
          },
          "execution_count": 7,
          "metadata": {},
          "output_type": "execute_result"
        }
      ],
      "source": [
        "df.describe()"
      ]
    },
    {
      "cell_type": "code",
      "execution_count": null,
      "metadata": {
        "colab": {
          "base_uri": "https://localhost:8080/"
        },
        "id": "kOVnyvs-iTAR",
        "outputId": "c1827363-819a-429a-d3b9-58babd0c452e",
        "trusted": true
      },
      "outputs": [
        {
          "data": {
            "text/plain": [
              "VendorID                 float64\n",
              "lpep_pickup_datetime      object\n",
              "lpep_dropoff_datetime     object\n",
              "store_and_fwd_flag        object\n",
              "RatecodeID               float64\n",
              "PULocationID               int64\n",
              "DOLocationID               int64\n",
              "passenger_count          float64\n",
              "trip_distance            float64\n",
              "fare_amount              float64\n",
              "extra                    float64\n",
              "mta_tax                  float64\n",
              "tip_amount               float64\n",
              "tolls_amount             float64\n",
              "ehail_fee                float64\n",
              "improvement_surcharge    float64\n",
              "total_amount             float64\n",
              "payment_type             float64\n",
              "trip_type                float64\n",
              "congestion_surcharge     float64\n",
              "dtype: object"
            ]
          },
          "execution_count": 8,
          "metadata": {},
          "output_type": "execute_result"
        }
      ],
      "source": [
        "df.dtypes"
      ]
    },
    {
      "cell_type": "code",
      "execution_count": null,
      "metadata": {
        "id": "UFrsmfnPiTAS",
        "trusted": true
      },
      "outputs": [],
      "source": [
        "df = df.drop(['ehail_fee', 'VendorID', 'trip_type', 'congestion_surcharge'], axis= 1)"
      ]
    },
    {
      "cell_type": "code",
      "execution_count": null,
      "metadata": {
        "colab": {
          "base_uri": "https://localhost:8080/"
        },
        "id": "uJciAM2giTAT",
        "outputId": "def6ed6d-9c82-4cb0-ad8e-e34ec05a383d",
        "trusted": true
      },
      "outputs": [
        {
          "data": {
            "text/plain": [
              "394"
            ]
          },
          "execution_count": 10,
          "metadata": {},
          "output_type": "execute_result"
        }
      ],
      "source": [
        "len(df[df['total_amount'] <= 0])"
      ]
    },
    {
      "cell_type": "code",
      "execution_count": null,
      "metadata": {
        "id": "SCzoS55WiTAU",
        "trusted": true
      },
      "outputs": [],
      "source": [
        "df = df[df['total_amount'] > 0]"
      ]
    },
    {
      "cell_type": "code",
      "execution_count": null,
      "metadata": {
        "colab": {
          "base_uri": "https://localhost:8080/"
        },
        "id": "TFsDu9OLiTAU",
        "outputId": "75c44d26-1174-4fbe-cb9a-55c28d688b7e",
        "trusted": true
      },
      "outputs": [
        {
          "data": {
            "text/plain": [
              "50"
            ]
          },
          "execution_count": 12,
          "metadata": {},
          "output_type": "execute_result"
        }
      ],
      "source": [
        "len(df[df['fare_amount'] <= 0])"
      ]
    },
    {
      "cell_type": "code",
      "execution_count": null,
      "metadata": {
        "colab": {
          "base_uri": "https://localhost:8080/"
        },
        "id": "GUpqefudiTAV",
        "outputId": "eb3799e7-4133-4d97-f324-3950b17fb154",
        "trusted": true
      },
      "outputs": [
        {
          "data": {
            "text/plain": [
              "3263"
            ]
          },
          "execution_count": 13,
          "metadata": {},
          "output_type": "execute_result"
        }
      ],
      "source": [
        "len(df[df['trip_distance'] <= 0])"
      ]
    },
    {
      "cell_type": "code",
      "execution_count": null,
      "metadata": {
        "colab": {
          "base_uri": "https://localhost:8080/"
        },
        "id": "zQvzZjlbiTAV",
        "outputId": "4370e8e4-712d-468c-bca8-6e311f0acc5d",
        "trusted": true
      },
      "outputs": [
        {
          "data": {
            "text/plain": [
              "RatecodeID\n",
              "1.0     2.00\n",
              "2.0    17.32\n",
              "3.0     0.11\n",
              "4.0    11.90\n",
              "5.0     1.27\n",
              "Name: trip_distance, dtype: float64"
            ]
          },
          "execution_count": 14,
          "metadata": {},
          "output_type": "execute_result"
        }
      ],
      "source": [
        "df.groupby('RatecodeID')['trip_distance'].median()"
      ]
    },
    {
      "cell_type": "code",
      "execution_count": null,
      "metadata": {
        "id": "9p3DLy3giTAV",
        "trusted": true
      },
      "outputs": [],
      "source": [
        "df.loc[(df['trip_distance'] <= 0) & (df['RatecodeID'] == 1.0)] = 2.8\n",
        "df.loc[(df['trip_distance'] <= 0) & (df['RatecodeID'] == 2.0)] = 20\n",
        "df.loc[(df['trip_distance'] <= 0) & (df['RatecodeID'] == 3.0)] = 24\n",
        "df.loc[(df['trip_distance'] <= 0) & (df['RatecodeID'] == 4.0)] = 12\n",
        "df.loc[(df['trip_distance'] <= 0) & (df['RatecodeID'] == 5.0)] = 3.1"
      ]
    },
    {
      "cell_type": "code",
      "execution_count": null,
      "metadata": {
        "id": "zZgEkvFwiTAV",
        "trusted": true
      },
      "outputs": [],
      "source": [
        "for i in df.columns[[0, 1]]:\n",
        "    df[i] = pd.to_datetime(df[i])"
      ]
    },
    {
      "cell_type": "code",
      "execution_count": null,
      "metadata": {
        "id": "uCmjFsKEiTAW",
        "trusted": true
      },
      "outputs": [],
      "source": [
        "timedeltas = df['lpep_dropoff_datetime'] - df['lpep_pickup_datetime']\n",
        "trip_duration = []\n",
        "for i in timedeltas :\n",
        "    trip_duration.append(i.total_seconds() / 60)\n",
        "\n",
        "df['trip_duration'] = trip_duration\n",
        "df['trip_duration'] = df['trip_duration'].round(2)"
      ]
    },
    {
      "cell_type": "code",
      "execution_count": null,
      "metadata": {
        "colab": {
          "base_uri": "https://localhost:8080/"
        },
        "id": "5AgxAsx8iTAW",
        "outputId": "d32e53a9-c24f-4156-badd-40dc19490d30",
        "trusted": true
      },
      "outputs": [
        {
          "data": {
            "text/plain": [
              "(80019, 17)"
            ]
          },
          "execution_count": 18,
          "metadata": {},
          "output_type": "execute_result"
        }
      ],
      "source": [
        "df = df[df['trip_duration'] > 1]\n",
        "df.shape"
      ]
    },
    {
      "cell_type": "code",
      "execution_count": null,
      "metadata": {
        "colab": {
          "base_uri": "https://localhost:8080/"
        },
        "id": "C2bHJwAeiTAX",
        "outputId": "1d774e59-c54b-4273-de52-7c71a88ea5e1",
        "trusted": true
      },
      "outputs": [
        {
          "data": {
            "text/plain": [
              "N    47437\n",
              "Y      127\n",
              "Name: store_and_fwd_flag, dtype: int64"
            ]
          },
          "execution_count": 19,
          "metadata": {},
          "output_type": "execute_result"
        }
      ],
      "source": [
        "df['store_and_fwd_flag'].value_counts()"
      ]
    },
    {
      "cell_type": "code",
      "execution_count": null,
      "metadata": {
        "id": "7MXnLcLTiTAX",
        "trusted": true
      },
      "outputs": [],
      "source": [
        "df['store_and_fwd_flag'].fillna('N', inplace= True)"
      ]
    },
    {
      "cell_type": "code",
      "execution_count": null,
      "metadata": {
        "colab": {
          "base_uri": "https://localhost:8080/"
        },
        "id": "SwiTqxr4iTAX",
        "outputId": "435cf835-aa3d-4d16-a018-82a931dcfe78",
        "trusted": true
      },
      "outputs": [
        {
          "data": {
            "text/plain": [
              "1.0    0.583445\n",
              "2.0    0.413611\n",
              "3.0    0.002565\n",
              "4.0    0.000357\n",
              "5.0    0.000021\n",
              "Name: payment_type, dtype: float64"
            ]
          },
          "execution_count": 21,
          "metadata": {},
          "output_type": "execute_result"
        }
      ],
      "source": [
        "df['payment_type'].value_counts(normalize= True)"
      ]
    },
    {
      "cell_type": "code",
      "execution_count": null,
      "metadata": {
        "id": "hgDs8mXNiTAX",
        "trusted": true
      },
      "outputs": [],
      "source": [
        "df.loc[(df['payment_type'].isna()) & (df['total_amount'] > 50), 'payment_type'] = 1.0\n",
        "df.loc[(df['payment_type'].isna()) & (df['total_amount'] <= 50), 'payment_type'] = 2.0"
      ]
    },
    {
      "cell_type": "code",
      "execution_count": null,
      "metadata": {
        "id": "-uswp6NkiTAY",
        "trusted": true
      },
      "outputs": [],
      "source": [
        "df.loc[(df['RatecodeID'].isna()) & (df['total_amount'] >= 184), 'RatecodeID'] = 4.0\n",
        "df.loc[(df['RatecodeID'].isna()) & (138 <= df['total_amount']) & (df['total_amount']< 184), 'RatecodeID'] = 3.0\n",
        "df.loc[(df['RatecodeID'].isna()) & (79 <= df['total_amount']) & (df['total_amount']< 138), 'RatecodeID'] = 2.0\n",
        "df.loc[(df['RatecodeID'].isna()) & (0 <= df['total_amount']) & (df['total_amount']< 79), 'RatecodeID'] = 1.0"
      ]
    },
    {
      "cell_type": "code",
      "execution_count": null,
      "metadata": {
        "id": "3Lt9L5aviTAY",
        "trusted": true
      },
      "outputs": [],
      "source": [
        "df.loc[df['passenger_count']==0, 'passenger_count'] = 1.0\n",
        "df.loc[df['passenger_count']==7, 'passenger_count'] = 1.0\n",
        "df.loc[df['passenger_count']==32, 'passenger_count'] = 1.0"
      ]
    },
    {
      "cell_type": "code",
      "execution_count": null,
      "metadata": {
        "id": "tEY-n1zwiTAZ",
        "trusted": true
      },
      "outputs": [],
      "source": [
        "df.loc[df['passenger_count'].isna(), 'passenger_count'] = 1.0"
      ]
    },
    {
      "cell_type": "code",
      "execution_count": null,
      "metadata": {
        "colab": {
          "base_uri": "https://localhost:8080/"
        },
        "id": "qbAeQHyPiTAZ",
        "outputId": "2b0f3c2c-bf74-4103-9568-3821e03228ce",
        "trusted": true
      },
      "outputs": [
        {
          "data": {
            "text/plain": [
              "lpep_pickup_datetime     0\n",
              "lpep_dropoff_datetime    0\n",
              "store_and_fwd_flag       0\n",
              "RatecodeID               0\n",
              "PULocationID             0\n",
              "DOLocationID             0\n",
              "passenger_count          0\n",
              "trip_distance            0\n",
              "fare_amount              0\n",
              "extra                    0\n",
              "mta_tax                  0\n",
              "tip_amount               0\n",
              "tolls_amount             0\n",
              "improvement_surcharge    0\n",
              "total_amount             0\n",
              "payment_type             0\n",
              "trip_duration            0\n",
              "dtype: int64"
            ]
          },
          "execution_count": 30,
          "metadata": {},
          "output_type": "execute_result"
        }
      ],
      "source": [
        "df.isna().sum()"
      ]
    },
    {
      "cell_type": "code",
      "execution_count": null,
      "metadata": {
        "colab": {
          "base_uri": "https://localhost:8080/",
          "height": 270
        },
        "id": "EJKbdby7iTAZ",
        "outputId": "0673e758-2553-46d5-f8fe-989ef2e4446c",
        "trusted": true
      },
      "outputs": [
        {
          "data": {
            "text/html": [
              "\n",
              "  <div id=\"df-5c7f7d15-2ebf-4dfe-8678-64f95e768177\">\n",
              "    <div class=\"colab-df-container\">\n",
              "      <div>\n",
              "<style scoped>\n",
              "    .dataframe tbody tr th:only-of-type {\n",
              "        vertical-align: middle;\n",
              "    }\n",
              "\n",
              "    .dataframe tbody tr th {\n",
              "        vertical-align: top;\n",
              "    }\n",
              "\n",
              "    .dataframe thead th {\n",
              "        text-align: right;\n",
              "    }\n",
              "</style>\n",
              "<table border=\"1\" class=\"dataframe\">\n",
              "  <thead>\n",
              "    <tr style=\"text-align: right;\">\n",
              "      <th></th>\n",
              "      <th>lpep_pickup_datetime</th>\n",
              "      <th>lpep_dropoff_datetime</th>\n",
              "      <th>store_and_fwd_flag</th>\n",
              "      <th>RatecodeID</th>\n",
              "      <th>PULocationID</th>\n",
              "      <th>DOLocationID</th>\n",
              "      <th>passenger_count</th>\n",
              "      <th>trip_distance</th>\n",
              "      <th>fare_amount</th>\n",
              "      <th>extra</th>\n",
              "      <th>mta_tax</th>\n",
              "      <th>tip_amount</th>\n",
              "      <th>tolls_amount</th>\n",
              "      <th>improvement_surcharge</th>\n",
              "      <th>total_amount</th>\n",
              "      <th>payment_type</th>\n",
              "      <th>trip_duration</th>\n",
              "    </tr>\n",
              "  </thead>\n",
              "  <tbody>\n",
              "    <tr>\n",
              "      <th>0</th>\n",
              "      <td>2021-07-01 00:30:52</td>\n",
              "      <td>2021-07-01 00:35:36</td>\n",
              "      <td>N</td>\n",
              "      <td>1.0</td>\n",
              "      <td>74.0</td>\n",
              "      <td>168.0</td>\n",
              "      <td>1.0</td>\n",
              "      <td>1.20</td>\n",
              "      <td>6.0</td>\n",
              "      <td>0.5</td>\n",
              "      <td>0.5</td>\n",
              "      <td>0.00</td>\n",
              "      <td>0.0</td>\n",
              "      <td>0.3</td>\n",
              "      <td>7.30</td>\n",
              "      <td>2.0</td>\n",
              "      <td>4.73</td>\n",
              "    </tr>\n",
              "    <tr>\n",
              "      <th>1</th>\n",
              "      <td>2021-07-01 00:25:36</td>\n",
              "      <td>2021-07-01 01:01:31</td>\n",
              "      <td>N</td>\n",
              "      <td>1.0</td>\n",
              "      <td>116.0</td>\n",
              "      <td>265.0</td>\n",
              "      <td>2.0</td>\n",
              "      <td>13.69</td>\n",
              "      <td>42.0</td>\n",
              "      <td>0.5</td>\n",
              "      <td>0.5</td>\n",
              "      <td>0.00</td>\n",
              "      <td>0.0</td>\n",
              "      <td>0.3</td>\n",
              "      <td>43.30</td>\n",
              "      <td>2.0</td>\n",
              "      <td>35.92</td>\n",
              "    </tr>\n",
              "    <tr>\n",
              "      <th>2</th>\n",
              "      <td>2021-07-01 00:05:58</td>\n",
              "      <td>2021-07-01 00:12:00</td>\n",
              "      <td>N</td>\n",
              "      <td>1.0</td>\n",
              "      <td>97.0</td>\n",
              "      <td>33.0</td>\n",
              "      <td>1.0</td>\n",
              "      <td>0.95</td>\n",
              "      <td>6.5</td>\n",
              "      <td>0.5</td>\n",
              "      <td>0.5</td>\n",
              "      <td>2.34</td>\n",
              "      <td>0.0</td>\n",
              "      <td>0.3</td>\n",
              "      <td>10.14</td>\n",
              "      <td>1.0</td>\n",
              "      <td>6.03</td>\n",
              "    </tr>\n",
              "    <tr>\n",
              "      <th>3</th>\n",
              "      <td>2021-07-01 00:41:40</td>\n",
              "      <td>2021-07-01 00:47:23</td>\n",
              "      <td>N</td>\n",
              "      <td>1.0</td>\n",
              "      <td>74.0</td>\n",
              "      <td>42.0</td>\n",
              "      <td>1.0</td>\n",
              "      <td>1.24</td>\n",
              "      <td>6.5</td>\n",
              "      <td>0.5</td>\n",
              "      <td>0.5</td>\n",
              "      <td>0.00</td>\n",
              "      <td>0.0</td>\n",
              "      <td>0.3</td>\n",
              "      <td>7.80</td>\n",
              "      <td>2.0</td>\n",
              "      <td>5.72</td>\n",
              "    </tr>\n",
              "    <tr>\n",
              "      <th>4</th>\n",
              "      <td>2021-07-01 00:51:32</td>\n",
              "      <td>2021-07-01 00:58:46</td>\n",
              "      <td>N</td>\n",
              "      <td>1.0</td>\n",
              "      <td>42.0</td>\n",
              "      <td>244.0</td>\n",
              "      <td>1.0</td>\n",
              "      <td>1.10</td>\n",
              "      <td>7.0</td>\n",
              "      <td>0.5</td>\n",
              "      <td>0.5</td>\n",
              "      <td>0.00</td>\n",
              "      <td>0.0</td>\n",
              "      <td>0.3</td>\n",
              "      <td>8.30</td>\n",
              "      <td>2.0</td>\n",
              "      <td>7.23</td>\n",
              "    </tr>\n",
              "  </tbody>\n",
              "</table>\n",
              "</div>\n",
              "      <button class=\"colab-df-convert\" onclick=\"convertToInteractive('df-5c7f7d15-2ebf-4dfe-8678-64f95e768177')\"\n",
              "              title=\"Convert this dataframe to an interactive table.\"\n",
              "              style=\"display:none;\">\n",
              "        \n",
              "  <svg xmlns=\"http://www.w3.org/2000/svg\" height=\"24px\"viewBox=\"0 0 24 24\"\n",
              "       width=\"24px\">\n",
              "    <path d=\"M0 0h24v24H0V0z\" fill=\"none\"/>\n",
              "    <path d=\"M18.56 5.44l.94 2.06.94-2.06 2.06-.94-2.06-.94-.94-2.06-.94 2.06-2.06.94zm-11 1L8.5 8.5l.94-2.06 2.06-.94-2.06-.94L8.5 2.5l-.94 2.06-2.06.94zm10 10l.94 2.06.94-2.06 2.06-.94-2.06-.94-.94-2.06-.94 2.06-2.06.94z\"/><path d=\"M17.41 7.96l-1.37-1.37c-.4-.4-.92-.59-1.43-.59-.52 0-1.04.2-1.43.59L10.3 9.45l-7.72 7.72c-.78.78-.78 2.05 0 2.83L4 21.41c.39.39.9.59 1.41.59.51 0 1.02-.2 1.41-.59l7.78-7.78 2.81-2.81c.8-.78.8-2.07 0-2.86zM5.41 20L4 18.59l7.72-7.72 1.47 1.35L5.41 20z\"/>\n",
              "  </svg>\n",
              "      </button>\n",
              "      \n",
              "  <style>\n",
              "    .colab-df-container {\n",
              "      display:flex;\n",
              "      flex-wrap:wrap;\n",
              "      gap: 12px;\n",
              "    }\n",
              "\n",
              "    .colab-df-convert {\n",
              "      background-color: #E8F0FE;\n",
              "      border: none;\n",
              "      border-radius: 50%;\n",
              "      cursor: pointer;\n",
              "      display: none;\n",
              "      fill: #1967D2;\n",
              "      height: 32px;\n",
              "      padding: 0 0 0 0;\n",
              "      width: 32px;\n",
              "    }\n",
              "\n",
              "    .colab-df-convert:hover {\n",
              "      background-color: #E2EBFA;\n",
              "      box-shadow: 0px 1px 2px rgba(60, 64, 67, 0.3), 0px 1px 3px 1px rgba(60, 64, 67, 0.15);\n",
              "      fill: #174EA6;\n",
              "    }\n",
              "\n",
              "    [theme=dark] .colab-df-convert {\n",
              "      background-color: #3B4455;\n",
              "      fill: #D2E3FC;\n",
              "    }\n",
              "\n",
              "    [theme=dark] .colab-df-convert:hover {\n",
              "      background-color: #434B5C;\n",
              "      box-shadow: 0px 1px 3px 1px rgba(0, 0, 0, 0.15);\n",
              "      filter: drop-shadow(0px 1px 2px rgba(0, 0, 0, 0.3));\n",
              "      fill: #FFFFFF;\n",
              "    }\n",
              "  </style>\n",
              "\n",
              "      <script>\n",
              "        const buttonEl =\n",
              "          document.querySelector('#df-5c7f7d15-2ebf-4dfe-8678-64f95e768177 button.colab-df-convert');\n",
              "        buttonEl.style.display =\n",
              "          google.colab.kernel.accessAllowed ? 'block' : 'none';\n",
              "\n",
              "        async function convertToInteractive(key) {\n",
              "          const element = document.querySelector('#df-5c7f7d15-2ebf-4dfe-8678-64f95e768177');\n",
              "          const dataTable =\n",
              "            await google.colab.kernel.invokeFunction('convertToInteractive',\n",
              "                                                     [key], {});\n",
              "          if (!dataTable) return;\n",
              "\n",
              "          const docLinkHtml = 'Like what you see? Visit the ' +\n",
              "            '<a target=\"_blank\" href=https://colab.research.google.com/notebooks/data_table.ipynb>data table notebook</a>'\n",
              "            + ' to learn more about interactive tables.';\n",
              "          element.innerHTML = '';\n",
              "          dataTable['output_type'] = 'display_data';\n",
              "          await google.colab.output.renderOutput(dataTable, element);\n",
              "          const docLink = document.createElement('div');\n",
              "          docLink.innerHTML = docLinkHtml;\n",
              "          element.appendChild(docLink);\n",
              "        }\n",
              "      </script>\n",
              "    </div>\n",
              "  </div>\n",
              "  "
            ],
            "text/plain": [
              "  lpep_pickup_datetime lpep_dropoff_datetime store_and_fwd_flag  RatecodeID  \\\n",
              "0  2021-07-01 00:30:52   2021-07-01 00:35:36                  N         1.0   \n",
              "1  2021-07-01 00:25:36   2021-07-01 01:01:31                  N         1.0   \n",
              "2  2021-07-01 00:05:58   2021-07-01 00:12:00                  N         1.0   \n",
              "3  2021-07-01 00:41:40   2021-07-01 00:47:23                  N         1.0   \n",
              "4  2021-07-01 00:51:32   2021-07-01 00:58:46                  N         1.0   \n",
              "\n",
              "   PULocationID  DOLocationID  passenger_count  trip_distance  fare_amount  \\\n",
              "0          74.0         168.0              1.0           1.20          6.0   \n",
              "1         116.0         265.0              2.0          13.69         42.0   \n",
              "2          97.0          33.0              1.0           0.95          6.5   \n",
              "3          74.0          42.0              1.0           1.24          6.5   \n",
              "4          42.0         244.0              1.0           1.10          7.0   \n",
              "\n",
              "   extra  mta_tax  tip_amount  tolls_amount  improvement_surcharge  \\\n",
              "0    0.5      0.5        0.00           0.0                    0.3   \n",
              "1    0.5      0.5        0.00           0.0                    0.3   \n",
              "2    0.5      0.5        2.34           0.0                    0.3   \n",
              "3    0.5      0.5        0.00           0.0                    0.3   \n",
              "4    0.5      0.5        0.00           0.0                    0.3   \n",
              "\n",
              "   total_amount  payment_type  trip_duration  \n",
              "0          7.30           2.0           4.73  \n",
              "1         43.30           2.0          35.92  \n",
              "2         10.14           1.0           6.03  \n",
              "3          7.80           2.0           5.72  \n",
              "4          8.30           2.0           7.23  "
            ]
          },
          "execution_count": 31,
          "metadata": {},
          "output_type": "execute_result"
        }
      ],
      "source": [
        "df.head()"
      ]
    },
    {
      "cell_type": "code",
      "execution_count": null,
      "metadata": {
        "colab": {
          "base_uri": "https://localhost:8080/"
        },
        "id": "V9sgyzGdiTAZ",
        "outputId": "d0b52d15-1cc2-474f-ef71-e82d90b6e6cf",
        "trusted": true
      },
      "outputs": [
        {
          "data": {
            "text/plain": [
              "(80019, 17)"
            ]
          },
          "execution_count": 32,
          "metadata": {},
          "output_type": "execute_result"
        }
      ],
      "source": [
        "df.shape"
      ]
    },
    {
      "cell_type": "code",
      "execution_count": null,
      "metadata": {
        "colab": {
          "base_uri": "https://localhost:8080/",
          "height": 605
        },
        "id": "q0zkMyMBiTAZ",
        "outputId": "7c856039-429b-44b2-a3b1-7916718f3967",
        "trusted": true
      },
      "outputs": [
        {
          "data": {
            "image/png": "[encoded data removed]",
            "text/plain": [
              "<Figure size 1296x720 with 2 Axes>"
            ]
          },
          "metadata": {},
          "output_type": "display_data"
        }
      ],
      "source": [
        "plt.figure(figsize= (18, 10))\n",
        "sns.heatmap(df.corr(), annot= True);"
      ]
    },
    {
      "cell_type": "markdown",
      "metadata": {
        "id": "rqZ2yUlmiTAZ"
      },
      "source": [
        "\n",
        "\n",
        "##### Busiest day"
      ]
    },
    {
      "cell_type": "code",
      "execution_count": null,
      "metadata": {
        "id": "IAF26Q8biTAa",
        "trusted": true
      },
      "outputs": [],
      "source": [
        "df['day_of_week'] = df['lpep_pickup_datetime'].dt.day_name()"
      ]
    },
    {
      "cell_type": "code",
      "execution_count": null,
      "metadata": {
        "colab": {
          "base_uri": "https://localhost:8080/",
          "height": 371
        },
        "id": "5sCAdaTHiTAa",
        "outputId": "a35240cc-536d-4aeb-d911-cf4aa14c754b",
        "trusted": true
      },
      "outputs": [
        {
          "data": {
            "image/png": "[encoded data removed]",
            "text/plain": [
              "<Figure size 1296x504 with 1 Axes>"
            ]
          },
          "metadata": {},
          "output_type": "display_data"
        }
      ],
      "source": [
        "plt.figure(figsize= (18, 7))\n",
        "sns.countplot(y= 'day_of_week', data= df)\n",
        "plt.ylabel('');"
      ]
    },
    {
      "cell_type": "markdown",
      "metadata": {
        "id": "CWIi0JfOiTAa"
      },
      "source": [
        "##### Busiest hour"
      ]
    },
    {
      "cell_type": "code",
      "execution_count": null,
      "metadata": {
        "colab": {
          "base_uri": "https://localhost:8080/",
          "height": 383
        },
        "id": "YTkMKJisiTAa",
        "outputId": "c1c68f7a-34c6-49cc-b0c0-f5071f65da87",
        "trusted": true
      },
      "outputs": [
        {
          "data": {
            "image/png": "[encoded data removed]",
            "text/plain": [
              "<Figure size 1296x504 with 1 Axes>"
            ]
          },
          "metadata": {},
          "output_type": "display_data"
        }
      ],
      "source": [
        "plt.figure(figsize= (18, 7))\n",
        "sns.countplot(x= df['lpep_pickup_datetime'].dt.hour, data= df, color= 'goldenrod')\n",
        "plt.ylabel('')\n",
        "plt.xlabel('Hour of Day');"
      ]
    }
  ],
  "metadata": {
    "accelerator": "GPU",
    "colab": {
      "provenance": []
    },
    "gpuClass": "standard",
    "kernelspec": {
      "display_name": "Python 3",
      "language": "python",
      "name": "python3"
    },
    "language_info": {
      "codemirror_mode": {
        "name": "ipython",
        "version": 3
      },
      "file_extension": ".py",
      "mimetype": "text/x-python",
      "name": "python",
      "nbconvert_exporter": "python",
      "pygments_lexer": "ipython3",
      "version": "3.7.12"
    }
  },
  "nbformat": 4,
  "nbformat_minor": 0
}
